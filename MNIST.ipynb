{
 "cells": [
  {
   "cell_type": "code",
   "execution_count": 2,
   "id": "b8784250",
   "metadata": {},
   "outputs": [],
   "source": [
    "import pandas as pd\n",
    "import numpy as np\n",
    "import math\n",
    "from matplotlib import pyplot as plt"
   ]
  },
  {
   "cell_type": "code",
   "execution_count": 3,
   "id": "ee296220",
   "metadata": {},
   "outputs": [],
   "source": [
    "df = pd.read_csv(\"mnist_train.csv\")"
   ]
  },
  {
   "cell_type": "code",
   "execution_count": 4,
   "id": "c7e5996d",
   "metadata": {},
   "outputs": [],
   "source": [
    "def randomize_sample(df):\n",
    "    df = df.sample(frac = 1)\n",
    "    ONE_HOT_Y = pd.get_dummies(df.label)\n",
    "    x_train = df.drop(['label'], axis=1)\n",
    "    y_train = df.loc[:,'label']\n",
    "    x_train = np.array(x_train)/255\n",
    "    y_train = np.array(y_train).reshape(len(df),1)\n",
    "    ONE_HOT_Y = np.array(ONE_HOT_Y)\n",
    "    return x_train, y_train, ONE_HOT_Y"
   ]
  },
  {
   "cell_type": "code",
   "execution_count": 5,
   "id": "4b00fc01",
   "metadata": {},
   "outputs": [],
   "source": [
    "def save_model(W1_new, b1_new, W2_new, b2_new, path):\n",
    "    W1_save = pd.DataFrame(W1_new)\n",
    "    W1_save.to_csv(f\"{path}/W1.csv\", index=False)\n",
    "    b1_save = pd.DataFrame(b1_new)\n",
    "    b1_save.to_csv(f\"{path}/b1.csv\", index=False)\n",
    "    W2_save = pd.DataFrame(W2_new)\n",
    "    W2_save.to_csv(f\"{path}/W2.csv\", index=False)\n",
    "    b2_save = pd.DataFrame(b2_new)\n",
    "    b2_save.to_csv(f\"{path}/b2.csv\", index=False)"
   ]
  },
  {
   "cell_type": "code",
   "execution_count": 6,
   "id": "c730e411",
   "metadata": {},
   "outputs": [],
   "source": [
    "def load_model(path):\n",
    "    W1_new, b1_new, W2_new, b2_new = np.array(pd.read_csv(f\"{path}/W1.csv\")), np.array(pd.read_csv(f\"{path}/b1.csv\")), np.array(pd.read_csv(f\"{path}/W2.csv\")), np.array(pd.read_csv(f\"{path}/b2.csv\"))\n",
    "    return W1_new, b1_new, W2_new, b2_new"
   ]
  },
  {
   "cell_type": "code",
   "execution_count": 7,
   "id": "84983a69",
   "metadata": {},
   "outputs": [],
   "source": [
    "# x_train, y_train, one_hot_Y = randomize_sample(df)"
   ]
  },
  {
   "cell_type": "code",
   "execution_count": 8,
   "id": "66bcbdcb",
   "metadata": {},
   "outputs": [],
   "source": [
    "# one_hot_Y.shape, x_train.shape"
   ]
  },
  {
   "cell_type": "code",
   "execution_count": 9,
   "id": "92496801",
   "metadata": {},
   "outputs": [],
   "source": [
    "# one_hot_Y.T[6], y_train[6]"
   ]
  },
  {
   "cell_type": "code",
   "execution_count": 10,
   "id": "809764f4",
   "metadata": {},
   "outputs": [],
   "source": [
    "# x_train_visualize = x_train.reshape(len(df),28,28)"
   ]
  },
  {
   "cell_type": "code",
   "execution_count": 11,
   "id": "7c8d7802",
   "metadata": {
    "scrolled": true
   },
   "outputs": [],
   "source": [
    "# plt.imshow(x_train_visualize[-1], cmap='gray')\n",
    "# plt.show()\n",
    "# print(y_train[-1])"
   ]
  },
  {
   "cell_type": "code",
   "execution_count": 12,
   "id": "04cf80c6",
   "metadata": {},
   "outputs": [],
   "source": [
    "def relu(X):\n",
    "    return np.maximum(0, X)\n",
    "def relu_derivative(X):\n",
    "#     X[X<0] = 0\n",
    "#     X[X>=0] = 1\n",
    "    return (X >= 0) * 1\n",
    "\n",
    "def sigmoid(X):\n",
    "#     X = np.float64(X)\n",
    "    return 1/(1+np.exp(X))\n",
    "\n",
    "def softmax(X):\n",
    "#     X = np.float64(X)\n",
    "    e = np.exp(X)\n",
    "    return e/e.sum()"
   ]
  },
  {
   "cell_type": "code",
   "execution_count": 13,
   "id": "24beac0f",
   "metadata": {},
   "outputs": [],
   "source": [
    "def init_parameters():\n",
    "    W1 = np.random.randn(10,784)\n",
    "    b1 = np.random.randn(10,1)\n",
    "    W2 = np.random.randn(10,10)\n",
    "    b2 = np.random.randn(10,1)\n",
    "    return W1, b1, W2, b2"
   ]
  },
  {
   "cell_type": "code",
   "execution_count": 14,
   "id": "d6493a0a",
   "metadata": {},
   "outputs": [],
   "source": [
    "# W1, b1, W2, b2 = init_parameters()"
   ]
  },
  {
   "cell_type": "code",
   "execution_count": 15,
   "id": "9238e82f",
   "metadata": {},
   "outputs": [],
   "source": [
    "def forward_propagation(W1, b1, W2, b2, X):\n",
    "    a1 = b1 + W1.dot(X).reshape(10,1)\n",
    "    h1 = relu(a1)\n",
    "    a2 = b2 + W2.dot(h1)\n",
    "    y_cap = softmax(a2).T\n",
    "    return h1, a1, a2, y_cap"
   ]
  },
  {
   "cell_type": "code",
   "execution_count": 16,
   "id": "0fc9bd13",
   "metadata": {},
   "outputs": [],
   "source": [
    "# for X in x_train:\n",
    "#     a1 = b1 + W1.dot(X).reshape(10,1)\n",
    "#     h1 = sigmoid(a1)\n",
    "#     a2 = b2 + W2.dot(h1)\n",
    "#     y_cap = softmax(a2).T\n",
    "#     print(y_cap.T.shape)"
   ]
  },
  {
   "cell_type": "code",
   "execution_count": 17,
   "id": "4a8c11bd",
   "metadata": {},
   "outputs": [],
   "source": [
    "# for hot in one_hot_Y:\n",
    "#     print(hot.reshape(10,1))"
   ]
  },
  {
   "cell_type": "code",
   "execution_count": 18,
   "id": "2067db05",
   "metadata": {},
   "outputs": [],
   "source": [
    "def back_propagation(h1, a1, a2, W1, W2, y_cap, X, one_hot_Y):\n",
    "    grad_L_theta_a2 = -(one_hot_Y.reshape(10,1) - y_cap.T)\n",
    "    grad_L_theta_W2 = grad_L_theta_a2.dot(h1.T)\n",
    "    grad_L_theta_b2 = grad_L_theta_a2\n",
    "    grad_L_theta_h1 = W2.T.dot(grad_L_theta_a2)\n",
    "#     grad_L_theta_a1 = grad_L_theta_h1*(sigmoid(a1)*(1 - sigmoid(a1)))\n",
    "    grad_L_theta_a1 = grad_L_theta_h1*relu_derivative(a1)\n",
    "    grad_L_theta_W1 = grad_L_theta_a1.dot(X.reshape(1,784))\n",
    "    grad_L_theta_b1 = grad_L_theta_a1\n",
    "    return grad_L_theta_W1, grad_L_theta_b1, grad_L_theta_W2, grad_L_theta_b2"
   ]
  },
  {
   "cell_type": "code",
   "execution_count": 19,
   "id": "36c5b51c",
   "metadata": {},
   "outputs": [],
   "source": [
    "# x=np.zeros(4)\n",
    "# x+=[1,2,3,4]\n",
    "# x+=x\n",
    "# x"
   ]
  },
  {
   "cell_type": "code",
   "execution_count": 20,
   "id": "0743fa5c",
   "metadata": {},
   "outputs": [],
   "source": [
    "# y_cap.shape"
   ]
  },
  {
   "cell_type": "code",
   "execution_count": 21,
   "id": "37663884",
   "metadata": {},
   "outputs": [],
   "source": [
    "def gradient_decent(epochs, eta, beta1, beta2, eps):\n",
    "#     W1, b1, W2, b2 = init_parameters()\n",
    "    path = \"model\"\n",
    "    W1, b1, W2, b2 = load_model(path)\n",
    "    i = 0    \n",
    "    while i < epochs:\n",
    "        print(f\"Epoch: {i+1} \",end=\" \")\n",
    "        x_train, y_train, ONE_HOT_Y = randomize_sample(df)\n",
    "        V_W1, V_b1, V_W2, V_b2 = np.zeros((W1.shape)), np.zeros((b1.shape)), np.zeros((W2.shape)), np.zeros((b2.shape))\n",
    "        mW1, mb1, mW2, mb2 = np.zeros((W1.shape)), np.zeros((b1.shape)), np.zeros((W2.shape)), np.zeros((b2.shape))\n",
    "        good_count = 0\n",
    "        for X, Y_HOT in zip(x_train, ONE_HOT_Y):  \n",
    "            \n",
    "            h1, a1, a2, y_cap = forward_propagation(W1, b1, W2, b2, X)\n",
    "            \n",
    "            del_W1, del_b1, del_W2, del_b2 = back_propagation(h1, a1, a2, W1, W2, y_cap, X, Y_HOT)\n",
    "            \n",
    "            mW1 = beta1*mW1+(1-beta1)*del_W1\n",
    "            V_W1 = beta2*V_W1 + (1-beta2)*np.square(del_W1)\n",
    "            \n",
    "            mb1 = beta1*mb1+(1-beta1)*del_b1\n",
    "            V_b1 = beta2*V_b1 + (1-beta2)*np.square(del_b1)\n",
    "            \n",
    "            mW2 = beta1*mW2+(1-beta1)*del_W2\n",
    "            V_W2 = beta2*V_W2 + (1-beta2)*np.square(del_W2)\n",
    "            \n",
    "            mb2 = beta1*mb2+(1-beta1)*del_b2\n",
    "            V_b2 = beta2*V_b2 + (1-beta2)*np.square(del_b2)\n",
    "             \n",
    "            mW1 = mW1/(1 - beta1**i+1)\n",
    "            mb1 = mb1/(1 - beta1**i+1)\n",
    "            mW2 = mW2/(1 - beta1**i+1)\n",
    "            mb2 = mb2/(1 - beta1**i+1)\n",
    "            \n",
    "            V_W1 = V_W1/(1 - beta2**i+1)\n",
    "            V_b1 = V_b1/(1 - beta2**i+1)\n",
    "            V_W2 = V_W2/(1 - beta2**i+1)\n",
    "            V_b2 = V_b2/(1 - beta2**i+1)\n",
    "            \n",
    "            W1 = W1 - eta*mW1/np.sqrt(V_W1 + eps)\n",
    "            b1 = b1 - eta*mb1/np.sqrt(V_b1 + eps)\n",
    "            W2 = W2 - eta*mW2/np.sqrt(V_W2 + eps)\n",
    "            b2 = b2 - eta*mb2/np.sqrt(V_b2 + eps)\n",
    "    \n",
    "            if np.argmax(y_cap) == np.argmax(Y_HOT):\n",
    "                good_count += 1\n",
    "            accuracy = 100*good_count/y_train.size\n",
    "\n",
    "        print(f\"  Accuracy = {accuracy}\\n\")\n",
    "        i += 1\n",
    "    return W1, b1, W2, b2"
   ]
  },
  {
   "cell_type": "code",
   "execution_count": null,
   "id": "be2fc2d6",
   "metadata": {},
   "outputs": [],
   "source": [
    "epochs, eta, beta1, beta2, eps = 10, 0.0001, 0.9, 0.999, 1e-8"
   ]
  },
  {
   "cell_type": "code",
   "execution_count": null,
   "id": "17cd2af1",
   "metadata": {
    "scrolled": true
   },
   "outputs": [],
   "source": [
    "W1_new, b1_new, W2_new, b2_new = gradient_decent(epochs, eta, beta1, beta2, eps)\n",
    "path = 'model'\n",
    "save_model(W1_new, b1_new, W2_new, b2_new, path)\n",
    "print(\"\\nModel Saved\")"
   ]
  },
  {
   "cell_type": "code",
   "execution_count": 26,
   "id": "8860ea44",
   "metadata": {},
   "outputs": [
    {
     "name": "stdout",
     "output_type": "stream",
     "text": [
      "Test Accuracy = 89.51\n"
     ]
    }
   ],
   "source": [
    "path = \"model\"\n",
    "W1, b1, W2, b2 = load_model(path)\n",
    "test_df = pd.read_csv(\"mnist_test.csv\")\n",
    "x_test = test_df.drop(['label'], axis=1)\n",
    "y_test = test_df.loc[:,'label']\n",
    "x_test = np.array(x_test)/255\n",
    "y_test = np.array(y_test).reshape(len(test_df),1)\n",
    "count = 0\n",
    "j = 0\n",
    "for x,y in zip(x_test,y_test):\n",
    "    a1 = b1 + W1.dot(x).reshape(10,1)\n",
    "    h1 = relu(a1)\n",
    "    a2 = b2 + W2.dot(h1)\n",
    "    y_cap = softmax(a2)\n",
    "    if np.argmax(y_cap) == int(y):\n",
    "#         print(np.argmax(y_cap), int(y))\n",
    "#         print(count)\n",
    "        j+=1\n",
    "    count += 1\n",
    "print(\"Test Accuracy =\",100*j/y_test.size)"
   ]
  },
  {
   "cell_type": "code",
   "execution_count": 28,
   "id": "cd96ae4c",
   "metadata": {
    "scrolled": true
   },
   "outputs": [
    {
     "name": "stdout",
     "output_type": "stream",
     "text": [
      "Predicted value = 1,  Actual Value = 1\n"
     ]
    },
    {
     "data": {
      "image/png": "[encoded data removed]",
      "text/plain": [
       "<Figure size 432x288 with 1 Axes>"
      ]
     },
     "metadata": {
      "needs_background": "light"
     },
     "output_type": "display_data"
    }
   ],
   "source": [
    "i = 57\n",
    "a1 = b1 + W1.dot(x_test[i]).reshape(10,1)\n",
    "h1 = relu(a1)\n",
    "a2 = b2 + W2.dot(h1)\n",
    "y_cap = softmax(a2)\n",
    "print(f\"Predicted value = {np.argmax(y_cap)},  Actual Value = {int(y_test[i])}\")\n",
    "x_test_visualize = x_test.reshape(len(test_df),28,28)\n",
    "plt.imshow(x_test_visualize[i], cmap='gray')\n",
    "plt.show()"
   ]
  }
 ],
 "metadata": {
  "kernelspec": {
   "display_name": "Python 3",
   "language": "python",
   "name": "python3"
  },
  "language_info": {
   "codemirror_mode": {
    "name": "ipython",
    "version": 3
   },
   "file_extension": ".py",
   "mimetype": "text/x-python",
   "name": "python",
   "nbconvert_exporter": "python",
   "pygments_lexer": "ipython3",
   "version": "3.9.1"
  }
 },
 "nbformat": 4,
 "nbformat_minor": 5
}
